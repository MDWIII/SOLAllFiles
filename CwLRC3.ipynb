{
 "cells": [
  {
   "cell_type": "code",
   "execution_count": 20,
   "metadata": {
    "collapsed": false
   },
   "outputs": [],
   "source": [
    "import numpy as np\n",
    "import matplotlib.pyplot as plt\n",
    "% matplotlib inline"
   ]
  },
  {
   "cell_type": "markdown",
   "metadata": {},
   "source": [
    " "
   ]
  },
  {
   "cell_type": "code",
   "execution_count": 74,
   "metadata": {
    "collapsed": false
   },
   "outputs": [
    {
     "name": "stdout",
     "output_type": "stream",
     "text": [
      "Calculated capacitance of premade capacitor: 0.170547574204 nF\n"
     ]
    }
   ],
   "source": [
    "E_0 = 8.85418782E-12 # \\epsilon_0\n",
    "u_0 = 1.25663706E-6 # \\mu_0\n",
    "\n",
    "'''w = 0.498 # length of capacitor\n",
    "a = 0.011 # outer radius of inner pipe\n",
    "b = 0.013 # inner radius of outer pipe'''\n",
    "\n",
    "l_c = 0.498 # +- 0.001 meters length of the cylidrical capacitor\n",
    "a_c = (0.022326)/2 # outside diameter divided by 2 for radius\n",
    "b_c = (0.026264)/2 # same as above\n",
    "\n",
    "C_calc = ((2*np.pi*E_0*l_c)/(np.log(b_c/a_c)))\n",
    "print(\"Calculated capacitance of premade capacitor: %s nF\" % (C_calc*10**9))"
   ]
  },
  {
   "cell_type": "markdown",
   "metadata": {},
   "source": [
    "Actuall measuremnts of the coils we wound:\n",
    "first the small coil, then the one we ended up using which was a bit larger in size and turns. "
   ]
  },
  {
   "cell_type": "code",
   "execution_count": 22,
   "metadata": {
    "collapsed": false
   },
   "outputs": [
    {
     "name": "stdout",
     "output_type": "stream",
     "text": [
      "ballpark inductance = 0.594093373154 mH\n"
     ]
    }
   ],
   "source": [
    "f_target = 5.0E5 # Hz\n",
    "\n",
    "omega_target = 2*np.pi*f_target # omega(the resonant freq) is 2pi*f\n",
    "\n",
    "#C = 1.65844E-10 # capacitance of pre-made capacitor\n",
    "L_target = 1/((omega_target**2)*C_calc) # target inductance to make target resonant frequency (from equation 1)\n",
    "print('ballpark inductance = %s mH' % (L_target*10**3))"
   ]
  },
  {
   "cell_type": "code",
   "execution_count": 23,
   "metadata": {
    "collapsed": false
   },
   "outputs": [
    {
     "name": "stdout",
     "output_type": "stream",
     "text": [
      "inductance of small coil: 0.4774820735335626 mH\n",
      "first aproximation of thoretical frequency for small inductor = 557.72334415 Khz\n"
     ]
    }
   ],
   "source": [
    "n1 = 150 # turns on the solinoid \n",
    "inductor1Length = .13256 # m\n",
    "inductor1Radius = 0.026694 # m\n",
    "L_small = ((u_0*np.pi*(n1**2)*(inductor1Radius**2))/inductor1Length)\n",
    "print('inductance of small coil: %s mH' % (L_small*10**3))\n",
    "\n",
    "\n",
    "ws = 1/np.sqrt(L_small*C_calc)\n",
    "fs = ws/(2*np.pi)\n",
    "\n",
    "print('first aproximation of thoretical frequency for small inductor = %s Khz' % (fs*10**-3))\n",
    "#print('coil density = %s (turns per cm)' % (n1/(inductor1Length*10**2)))\n",
    "#N = np.sqrt((L_target*inductorLength)/(u_0*np.pi*(inductorRadius**2)))\n",
    "\n",
    "#print('Number of turns = %s' % round(N))"
   ]
  },
  {
   "cell_type": "code",
   "execution_count": 24,
   "metadata": {
    "collapsed": false
   },
   "outputs": [
    {
     "name": "stdout",
     "output_type": "stream",
     "text": [
      "inductance of large coil: 3.834652266330525 mH\n",
      "first aproximation of thoretical frequency for large inductor = 196.804200987 Khz\n"
     ]
    }
   ],
   "source": [
    "n2 = 575 # turns on the solinoid\n",
    "inductor2Length = 0.509\n",
    "inductor2Radius = (0.0782 - 0.00086)/2\n",
    "\n",
    "L_large = ((u_0*np.pi*(n2**2)*(inductor2Radius**2))/inductor2Length)\n",
    "print('inductance of large coil: %s mH' % (L_large*10**3))\n",
    "\n",
    "wl = 1/np.sqrt(L_large*C_calc)\n",
    "fl = wl/(2*np.pi)\n",
    "\n",
    "print('first aproximation of thoretical frequency for large inductor = %s Khz' % (fl*10**-3))\n",
    "#print('coil density = %s (turns per cm)' % (n2/(inductor2Length*10**2)))"
   ]
  },
  {
   "cell_type": "markdown",
   "metadata": {},
   "source": [
    "These first values gave us a rough area in which to look for amplitude peaks. "
   ]
  },
  {
   "cell_type": "code",
   "execution_count": 69,
   "metadata": {
    "collapsed": false
   },
   "outputs": [
    {
     "data": {
      "image/png": "[encoded data removed]",
      "text/plain": [
       "<matplotlib.figure.Figure at 0x22569971cf8>"
      ]
     },
     "metadata": {},
     "output_type": "display_data"
    }
   ],
   "source": [
    "#frequency Khz, amplitude Volts, phase microseconds\n",
    "a = np.genfromtxt('data.txt', delimiter = ',')\n",
    "#print(a)\n",
    "b = np.genfromtxt('8kResistorLargeCoil1.txt', delimiter = ',')\n",
    "c = np.genfromtxt('smallCoil1.txt', delimiter = ',')\n",
    "\n",
    "plt.figure(figsize = (20,10))\n",
    "plt.errorbar(a[ :,0],a[:,1], xerr=0.4, yerr=0.025, marker = 'o', linestyle = 'None')\n",
    "plt.xlabel('Frequency (Khz)')\n",
    "plt.ylabel('amplitude (Volts)')\n",
    "\n",
    "plt.errorbar(b[ :,0],b[:,1], xerr=0.4, yerr=0.05, marker = 'o', linestyle = 'None')\n",
    "#plt.plot(a[ :,0],a[:,1],'+', linestyle = 'None' )\n",
    "#plt.plot(b[ :,0],b[:,1], 'o')\n",
    "#plt.plot(c[ :,0],c[:,1], 'o')\n",
    "#plt.plot(a[ :,0], a[ :,2])\n",
    "#plt.plot(165.8,1,'o')\n",
    "\n",
    "plt.show()\n",
    "\n"
   ]
  },
  {
   "cell_type": "code",
   "execution_count": 70,
   "metadata": {
    "collapsed": false
   },
   "outputs": [
    {
     "data": {
      "text/plain": [
       "'\\n\\ndata1 +- .025 volts and +- 0.1 khz\\n\\n8data +- 0.05 volts and +- 0.1 khz\\nSmallData +- 0.25 volts and +- 1khz\\n\\n'"
      ]
     },
     "execution_count": 70,
     "metadata": {},
     "output_type": "execute_result"
    }
   ],
   "source": [
    "'''\n",
    "\n",
    "data1 +- .025 volts and +- 0.1 khz\n",
    "\n",
    "8data +- 0.05 volts and +- 0.1 khz\n",
    "SmallData +- 0.25 volts and +- 1khz\n",
    "\n",
    "'''\n"
   ]
  },
  {
   "cell_type": "code",
   "execution_count": 79,
   "metadata": {
    "collapsed": false
   },
   "outputs": [
    {
     "name": "stdout",
     "output_type": "stream",
     "text": [
      "2.939975e+08\n"
     ]
    },
    {
     "data": {
      "text/plain": [
       "1.9716130437322215"
      ]
     },
     "execution_count": 79,
     "metadata": {},
     "output_type": "execute_result"
    }
   ],
   "source": [
    "f = 193e3\n",
    "\n",
    "speedOfLight = ((2*np.pi**2*f*inductor2Radius*n2)*np.sqrt((2*l_c)/(inductor2Length*np.log(b_c/a_c))))\n",
    "print(format(speedOfLight,\"e\"))\n",
    "\n",
    "actuall_c = 2.99794e8\n",
    "\n",
    "100*((actuall_c - speedOfLight)/speedOfLight)"
   ]
  },
  {
   "cell_type": "code",
   "execution_count": 81,
   "metadata": {
    "collapsed": false
   },
   "outputs": [],
   "source": [
    "# now with correction factors\n",
    "\n",
    "gamma_c = ((b_c-a_c)/(np.pi*l_c))*np.log((np.pi*l_c)/(b_c-a_c))"
   ]
  },
  {
   "cell_type": "code",
   "execution_count": null,
   "metadata": {
    "collapsed": true
   },
   "outputs": [],
   "source": []
  }
 ],
 "metadata": {
  "kernelspec": {
   "display_name": "Python 3",
   "language": "python",
   "name": "python3"
  },
  "language_info": {
   "codemirror_mode": {
    "name": "ipython",
    "version": 3
   },
   "file_extension": ".py",
   "mimetype": "text/x-python",
   "name": "python",
   "nbconvert_exporter": "python",
   "pygments_lexer": "ipython3",
   "version": "3.5.0"
  }
 },
 "nbformat": 4,
 "nbformat_minor": 0
}
